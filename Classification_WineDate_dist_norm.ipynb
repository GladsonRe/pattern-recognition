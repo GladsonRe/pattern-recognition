{
 "cells": [
  {
   "cell_type": "code",
   "execution_count": 1,
   "metadata": {},
   "outputs": [
    {
     "ename": "ModuleNotFoundError",
     "evalue": "No module named 'pandas'",
     "output_type": "error",
     "traceback": [
      "\u001b[1;31m---------------------------------------------------------------------------\u001b[0m",
      "\u001b[1;31mModuleNotFoundError\u001b[0m                       Traceback (most recent call last)",
      "\u001b[1;32mC:\\Users\\GLADSO~1\\AppData\\Local\\Temp/ipykernel_2708/1702102693.py\u001b[0m in \u001b[0;36m<module>\u001b[1;34m\u001b[0m\n\u001b[1;32m----> 1\u001b[1;33m \u001b[1;32mimport\u001b[0m \u001b[0mpandas\u001b[0m \u001b[1;32mas\u001b[0m \u001b[0mpd\u001b[0m\u001b[1;33m\u001b[0m\u001b[1;33m\u001b[0m\u001b[0m\n\u001b[0m\u001b[0;32m      2\u001b[0m \u001b[1;32mimport\u001b[0m \u001b[0mnumpy\u001b[0m \u001b[1;32mas\u001b[0m \u001b[0mnp\u001b[0m\u001b[1;33m\u001b[0m\u001b[1;33m\u001b[0m\u001b[0m\n\u001b[0;32m      3\u001b[0m \u001b[1;32mimport\u001b[0m \u001b[0mrandom\u001b[0m\u001b[1;33m\u001b[0m\u001b[1;33m\u001b[0m\u001b[0m\n\u001b[0;32m      4\u001b[0m \u001b[1;32mfrom\u001b[0m \u001b[0msklearn\u001b[0m\u001b[1;33m.\u001b[0m\u001b[0mutils\u001b[0m \u001b[1;32mimport\u001b[0m \u001b[0mshuffle\u001b[0m\u001b[1;33m\u001b[0m\u001b[1;33m\u001b[0m\u001b[0m\n",
      "\u001b[1;31mModuleNotFoundError\u001b[0m: No module named 'pandas'"
     ]
    }
   ],
   "source": [
    "import pandas as pd\n",
    "import numpy as np\n",
    "import random \n",
    "from sklearn.utils import shuffle"
   ]
  },
  {
   "cell_type": "code",
   "execution_count": null,
   "metadata": {
    "scrolled": true
   },
   "outputs": [],
   "source": [
    "#Importa o arquivo com os dados como um dataset\n",
    "arquivo = pd.read_csv('winedados.csv')"
   ]
  },
  {
   "cell_type": "code",
   "execution_count": null,
   "metadata": {},
   "outputs": [],
   "source": [
    "#Normalização estatistica dos dados: (X - Xmédia)/Xdesvio_padrão\n",
    "\n",
    "def norm_estat(x):\n",
    "    return ((x - x.mean())/x.std()) \n",
    "\n",
    "arquivo1 = arquivo.apply(norm_estat)\n",
    "arquivo1 = arquivo1.drop('classe', axis=1)\n",
    "arquivo1.insert(0,'classe',arquivo['classe'])\n"
   ]
  },
  {
   "cell_type": "code",
   "execution_count": null,
   "metadata": {},
   "outputs": [],
   "source": [
    "#converte o dataset em um array\n",
    "arquivo2 =np.array(arquivo1)\n"
   ]
  },
  {
   "cell_type": "code",
   "execution_count": null,
   "metadata": {},
   "outputs": [],
   "source": [
    "#Embaralha o dataset\n",
    "arquivo3 = shuffle(arquivo2)"
   ]
  },
  {
   "cell_type": "code",
   "execution_count": null,
   "metadata": {},
   "outputs": [],
   "source": [
    "#Separa o dataset em treino e teste na proporção 90/10\n",
    "msk = np.random.rand(len(arquivo2)) <0.90\n",
    "train = arquivo[msk]\n",
    "test = arquivo[~msk]"
   ]
  },
  {
   "cell_type": "code",
   "execution_count": null,
   "metadata": {},
   "outputs": [],
   "source": [
    "train = shuffle(train)"
   ]
  },
  {
   "cell_type": "code",
   "execution_count": null,
   "metadata": {},
   "outputs": [],
   "source": [
    "treino = np.array(train)"
   ]
  },
  {
   "cell_type": "code",
   "execution_count": null,
   "metadata": {},
   "outputs": [],
   "source": [
    "teste = np.array(test)"
   ]
  },
  {
   "cell_type": "code",
   "execution_count": null,
   "metadata": {},
   "outputs": [],
   "source": [
    "len(treino)"
   ]
  },
  {
   "cell_type": "code",
   "execution_count": null,
   "metadata": {},
   "outputs": [],
   "source": [
    "len(teste)"
   ]
  },
  {
   "cell_type": "code",
   "execution_count": null,
   "metadata": {},
   "outputs": [],
   "source": [
    "norma = []\n",
    "value1 = ''\n",
    "value2 = ''\n",
    "contador = 0\n",
    "indice = 0\n",
    "aux= 0"
   ]
  },
  {
   "cell_type": "code",
   "execution_count": null,
   "metadata": {},
   "outputs": [],
   "source": [
    "for j in range(len(teste)):\n",
    "    for i in range(len(treino)):\n",
    "        norma.append(np.linalg.norm(teste[j] - treino[i]))\n",
    "        \n",
    "    for i in range(len(norma)):\n",
    "        if norma[i] == min(norma):\n",
    "            indice = i\n",
    "\n",
    "\n",
    "    for i in str(treino[indice]):\n",
    "        if i == '.':\n",
    "            break\n",
    "        elif i == ' ':\n",
    "            i = '0'\n",
    "        else:\n",
    "            value1 = value1 + i\n",
    "\n",
    "    for i in str(teste[j]):\n",
    "        if i == '.':\n",
    "            break\n",
    "        elif i == ' ':\n",
    "            i = '0'\n",
    "        else:\n",
    "            value2 = value2 + i\n",
    "            \n",
    "    if value1 == value2:\n",
    "        contador = contador + 1\n",
    "    \n",
    "    value1=''\n",
    "    value2=''\n",
    "    norma = []\n",
    "    indice = 0\n",
    "    \n",
    "print(\"% Acerto\",contador/len(teste)*100)\n",
    "        "
   ]
  }
 ],
 "metadata": {
  "kernelspec": {
   "display_name": "Python 3 (ipykernel)",
   "language": "python",
   "name": "python3"
  },
  "language_info": {
   "codemirror_mode": {
    "name": "ipython",
    "version": 3
   },
   "file_extension": ".py",
   "mimetype": "text/x-python",
   "name": "python",
   "nbconvert_exporter": "python",
   "pygments_lexer": "ipython3",
   "version": "3.10.0"
  }
 },
 "nbformat": 4,
 "nbformat_minor": 4
}
